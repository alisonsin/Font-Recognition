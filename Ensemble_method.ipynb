{
 "cells": [
  {
   "cell_type": "code",
   "execution_count": 1,
   "metadata": {},
   "outputs": [],
   "source": [
    "import numpy as np # linear algebra\n",
    "import pandas as pd # data processing, CSV file I/O (e.g. pd.read_csv)\n",
    "import os\n",
    "from sklearn.tree import DecisionTreeClassifier\n",
    "from sklearn.ensemble import (RandomForestClassifier, AdaBoostClassifier, \n",
    "                              GradientBoostingClassifier, ExtraTreesClassifier)"
   ]
  },
  {
   "cell_type": "code",
   "execution_count": 2,
   "metadata": {},
   "outputs": [],
   "source": [
    "#Training Sets\n",
    "X = pd.read_csv('train_data.csv')\n",
    "y = pd.read_csv('train_labels.csv')\n",
    "#Testing Sets\n",
    "ActualX = pd.read_csv('test_data.csv')\n",
    "\n",
    "#Convert train_labels from string -> numbers\n",
    "vals_to_replace = {'ARIAL':0, 'TIMES':1, 'SERIF':2, 'CAMBRIA': 3, 'CALIBRI': 4,'TAHOMA': 5 }\n",
    "y['Font'] = y['Font'].map(vals_to_replace)\n",
    "\n",
    "#Split training data into Training, Testing subsets; Introduce randomness in them with shuffle and random_state\n",
    "from sklearn.model_selection import train_test_split\n",
    "X_train, X_test, y_train, y_test = train_test_split(X, y, test_size=0.3, shuffle=True,random_state=100)\n",
    "\n",
    "#To preserve orginal y_test shape for accuracy_score during Test\n",
    "aftery_test = y_test "
   ]
  },
  {
   "cell_type": "code",
   "execution_count": 3,
   "metadata": {},
   "outputs": [],
   "source": [
    "X_train_rc = X_train.iloc[:, 7:len(X_train)]/255\n",
    "X_train_cat = X_train.iloc[:, 1:3]\n",
    "X_train_num = X_train.iloc[:, np.r_[0,3:7]]\n",
    "\n",
    "X_test_rc = X_test.iloc[:, 7:len(X_test)]/255\n",
    "X_test_cat = X_test.iloc[:, 1:3]\n",
    "X_test_num = X_test.iloc[:, np.r_[0,3:7]]\n",
    "\n",
    "ActualX_rc = ActualX.iloc[:, 7:len(ActualX)]/255\n",
    "ActualX_cat = ActualX.iloc[:, 1:3]\n",
    "ActualX_num = ActualX.iloc[:, np.r_[0,3:7]]"
   ]
  },
  {
   "cell_type": "code",
   "execution_count": 4,
   "metadata": {},
   "outputs": [],
   "source": [
    "#changing shape of y\n",
    "y = y.values.ravel()\n",
    "\n",
    "#split training data into 2\n",
    "from sklearn.model_selection import train_test_split\n",
    "# Split data into train and test subsets\n",
    "X_train, X_test, y_train, y_test = train_test_split(X, y, test_size=0.3, shuffle=True,random_state=100)\n",
    "\n",
    "#segregate features ; Normalized\n",
    "X_train_rc = X_train.iloc[:, 7:len(X_train)]/255\n",
    "X_train_core = X_train.iloc[:, 0:7]\n",
    "\n",
    "X_test_rc = X_test.iloc[:, 7:len(X_test)]/255\n",
    "X_test_core = X_test.iloc[:, 0:7]"
   ]
  },
  {
   "cell_type": "code",
   "execution_count": 5,
   "metadata": {},
   "outputs": [],
   "source": [
    "import skimage\n",
    "import skimage.feature\n",
    "\n",
    "#creating empty arrays\n",
    "ed_X_train_rc = np.zeros((len(X_train_rc),20,20))\n",
    "ed_X_test_rc = np.zeros((len(X_test_rc),20,20))\n",
    "ed_ActualX_rc = np.zeros((len(ActualX_rc),20,20))\n",
    "\n",
    "def imgprep(df, newarr):\n",
    "    for i in range(len(df)):\n",
    "        img= np.array(df.iloc[i]).reshape(20,20)\n",
    "        ed = skimage.feature.canny(image= img,sigma = 0.15)\n",
    "        newarr[i] = ed    \n",
    "\n",
    "#training set, testing set, actual test set\n",
    "imgprep(X_train_rc, ed_X_train_rc)\n",
    "imgprep(X_test_rc, ed_X_test_rc)\n",
    "imgprep(ActualX_rc, ed_ActualX_rc)"
   ]
  },
  {
   "cell_type": "markdown",
   "metadata": {},
   "source": [
    "# Pre-processing Categorical Data"
   ]
  },
  {
   "cell_type": "code",
   "execution_count": 6,
   "metadata": {},
   "outputs": [],
   "source": [
    "# Change 2) Categorical Data into [0,1] - i.e. only 'strength' column\n",
    "str_bool_replace = {0.4:0, 0.7:1}\n",
    "X_train_cat[\"strength\"] = X_train_cat[\"strength\"].map(str_bool_replace)\n",
    "X_test_cat[\"strength\"] = X_test_cat[\"strength\"].map(str_bool_replace)\n",
    "ActualX_cat[\"strength\"] = ActualX_cat[\"strength\"].map(str_bool_replace)\n",
    "\n",
    "# Change 3) Numerical Data into the range [0,1]\n",
    "from sklearn.preprocessing import MinMaxScaler\n",
    "traincs = MinMaxScaler(feature_range =(0, 1))\n",
    "X_train_num = traincs.fit_transform(X_train_num)\n",
    "X_test_num = traincs.transform(X_test_num)  \n",
    "ActualX_num = traincs.transform(ActualX_num)  \n",
    "\n",
    "#Concatenating 2) Categorical and 3) Numerical Tgt\n",
    "X_train_core = np.hstack([X_train_num, X_train_cat])\n",
    "X_test_core = np.hstack([X_test_num, X_test_cat])\n",
    "ActualX_core = np.hstack([ActualX_num, ActualX_cat])"
   ]
  },
  {
   "cell_type": "markdown",
   "metadata": {},
   "source": [
    "## Ensemble Base Models for Categorical Inputs"
   ]
  },
  {
   "cell_type": "code",
   "execution_count": 68,
   "metadata": {},
   "outputs": [
    {
     "data": {
      "text/plain": [
       "0.8668717948717949"
      ]
     },
     "execution_count": 68,
     "metadata": {},
     "output_type": "execute_result"
    }
   ],
   "source": [
    "newabc_core = AdaBoostClassifier(DecisionTreeClassifier(random_state=30),n_estimators=300, learning_rate=0.7)\n",
    "# Train Adaboost Classifer\n",
    "newadamodel_core = newabc_core.fit(X_train_core, y_train)\n",
    "newadamodel_core.score(X_test_core, y_test)"
   ]
  },
  {
   "cell_type": "code",
   "execution_count": 11,
   "metadata": {},
   "outputs": [
    {
     "data": {
      "text/plain": [
       "0.8597948717948718"
      ]
     },
     "execution_count": 11,
     "metadata": {},
     "output_type": "execute_result"
    }
   ],
   "source": [
    "rf_core = RandomForestClassifier(n_estimators=800)\n",
    "rfmodel_core = rf_core.fit(X_train_core, y_train)\n",
    "rfmodel_core.score(X_test_core, y_test)"
   ]
  },
  {
   "cell_type": "code",
   "execution_count": 12,
   "metadata": {},
   "outputs": [
    {
     "data": {
      "text/plain": [
       "0.8602564102564103"
      ]
     },
     "execution_count": 12,
     "metadata": {},
     "output_type": "execute_result"
    }
   ],
   "source": [
    "et_core = ExtraTreesClassifier(n_estimators=800)\n",
    "etmodel_core = rf_core.fit(X_train_core, y_train)\n",
    "etmodel_core.score(X_test_core, y_test)"
   ]
  },
  {
   "cell_type": "code",
   "execution_count": 80,
   "metadata": {},
   "outputs": [
    {
     "data": {
      "text/plain": [
       "0.8826666666666667"
      ]
     },
     "execution_count": 80,
     "metadata": {},
     "output_type": "execute_result"
    }
   ],
   "source": [
    "from xgboost import XGBClassifier\n",
    "xgbc_core = XGBClassifier(n_estimators=4000,learning_rate = 0.7)\n",
    "xgbcmodel_core = xgbc_core.fit(X_train_core, y_train)\n",
    "xgbcmodel_core.score(X_test_core, y_test)"
   ]
  },
  {
   "cell_type": "markdown",
   "metadata": {},
   "source": [
    "# Voting Classifier"
   ]
  },
  {
   "cell_type": "code",
   "execution_count": 14,
   "metadata": {},
   "outputs": [],
   "source": [
    "from sklearn.ensemble import VotingClassifier "
   ]
  },
  {
   "cell_type": "code",
   "execution_count": 97,
   "metadata": {},
   "outputs": [],
   "source": [
    "eclf3 = VotingClassifier(estimators=[\n",
    "       ('lr', newadamodel_core), ('rf', rfmodel_core), ('gnb', etmodel_core), ('xgbc', xgbcmodel_core)],\n",
    "        voting='soft', \n",
    "        weights=[4,2,2.5,4],\n",
    "       flatten_transform=True)\n",
    "\n",
    "eclf3 = eclf3.fit(X_train_core, y_train)"
   ]
  },
  {
   "cell_type": "code",
   "execution_count": 98,
   "metadata": {},
   "outputs": [],
   "source": [
    "y_pred = eclf3.predict(X_test_core) \n",
    "from sklearn.metrics import accuracy_score  \n",
    "# using accuracy_score \n",
    "score = accuracy_score(y_test, y_pred) "
   ]
  },
  {
   "cell_type": "code",
   "execution_count": 99,
   "metadata": {},
   "outputs": [
    {
     "data": {
      "text/plain": [
       "array([4, 0, 0, ..., 0, 5, 0])"
      ]
     },
     "execution_count": 99,
     "metadata": {},
     "output_type": "execute_result"
    }
   ],
   "source": [
    "y_pred"
   ]
  },
  {
   "cell_type": "code",
   "execution_count": 100,
   "metadata": {},
   "outputs": [
    {
     "data": {
      "text/plain": [
       "0.884051282051282"
      ]
     },
     "execution_count": 100,
     "metadata": {},
     "output_type": "execute_result"
    }
   ],
   "source": [
    "score"
   ]
  },
  {
   "cell_type": "markdown",
   "metadata": {},
   "source": [
    "# Submission "
   ]
  },
  {
   "cell_type": "code",
   "execution_count": 101,
   "metadata": {},
   "outputs": [],
   "source": [
    "#actualresults = eclf3.predict(ActualX_core)\n",
    "actualresults = xgbcmodel_core.predict(ActualX_core)"
   ]
  },
  {
   "cell_type": "code",
   "execution_count": 102,
   "metadata": {},
   "outputs": [],
   "source": [
    "#Convert labels from 'int' back to 'str'\n",
    "stractualresults = []\n",
    "for i in range(len(actualresults)):\n",
    "    if actualresults[i] == 0:\n",
    "        stractualresults.append('ARIAL')\n",
    "    elif actualresults[i] == 1:\n",
    "        stractualresults.append('TIMES')\n",
    "    elif actualresults[i] == 2:\n",
    "        stractualresults.append('SERIF')\n",
    "    elif actualresults[i] == 3:\n",
    "        stractualresults.append('CAMBRIA')\n",
    "    elif actualresults[i] == 4: \n",
    "        stractualresults.append('CALIBRI')\n",
    "    elif actualresults[i] == 5:\n",
    "        stractualresults.append('TAHOMA')"
   ]
  },
  {
   "cell_type": "code",
   "execution_count": 103,
   "metadata": {},
   "outputs": [
    {
     "data": {
      "text/html": [
       "<div>\n",
       "<style scoped>\n",
       "    .dataframe tbody tr th:only-of-type {\n",
       "        vertical-align: middle;\n",
       "    }\n",
       "\n",
       "    .dataframe tbody tr th {\n",
       "        vertical-align: top;\n",
       "    }\n",
       "\n",
       "    .dataframe thead th {\n",
       "        text-align: right;\n",
       "    }\n",
       "</style>\n",
       "<table border=\"1\" class=\"dataframe\">\n",
       "  <thead>\n",
       "    <tr style=\"text-align: right;\">\n",
       "      <th></th>\n",
       "      <th>ID</th>\n",
       "      <th>Font</th>\n",
       "    </tr>\n",
       "  </thead>\n",
       "  <tbody>\n",
       "    <tr>\n",
       "      <th>0</th>\n",
       "      <td>1</td>\n",
       "      <td>ARIAL</td>\n",
       "    </tr>\n",
       "    <tr>\n",
       "      <th>1</th>\n",
       "      <td>2</td>\n",
       "      <td>SERIF</td>\n",
       "    </tr>\n",
       "    <tr>\n",
       "      <th>2</th>\n",
       "      <td>3</td>\n",
       "      <td>TAHOMA</td>\n",
       "    </tr>\n",
       "    <tr>\n",
       "      <th>3</th>\n",
       "      <td>4</td>\n",
       "      <td>TAHOMA</td>\n",
       "    </tr>\n",
       "    <tr>\n",
       "      <th>4</th>\n",
       "      <td>5</td>\n",
       "      <td>TAHOMA</td>\n",
       "    </tr>\n",
       "    <tr>\n",
       "      <th>...</th>\n",
       "      <td>...</td>\n",
       "      <td>...</td>\n",
       "    </tr>\n",
       "    <tr>\n",
       "      <th>29216</th>\n",
       "      <td>29217</td>\n",
       "      <td>TAHOMA</td>\n",
       "    </tr>\n",
       "    <tr>\n",
       "      <th>29217</th>\n",
       "      <td>29218</td>\n",
       "      <td>TIMES</td>\n",
       "    </tr>\n",
       "    <tr>\n",
       "      <th>29218</th>\n",
       "      <td>29219</td>\n",
       "      <td>ARIAL</td>\n",
       "    </tr>\n",
       "    <tr>\n",
       "      <th>29219</th>\n",
       "      <td>29220</td>\n",
       "      <td>TAHOMA</td>\n",
       "    </tr>\n",
       "    <tr>\n",
       "      <th>29220</th>\n",
       "      <td>29221</td>\n",
       "      <td>ARIAL</td>\n",
       "    </tr>\n",
       "  </tbody>\n",
       "</table>\n",
       "<p>29221 rows × 2 columns</p>\n",
       "</div>"
      ],
      "text/plain": [
       "          ID    Font\n",
       "0          1   ARIAL\n",
       "1          2   SERIF\n",
       "2          3  TAHOMA\n",
       "3          4  TAHOMA\n",
       "4          5  TAHOMA\n",
       "...      ...     ...\n",
       "29216  29217  TAHOMA\n",
       "29217  29218   TIMES\n",
       "29218  29219   ARIAL\n",
       "29219  29220  TAHOMA\n",
       "29220  29221   ARIAL\n",
       "\n",
       "[29221 rows x 2 columns]"
      ]
     },
     "execution_count": 103,
     "metadata": {},
     "output_type": "execute_result"
    }
   ],
   "source": [
    "pdresults = pd.Series(stractualresults,name=\"Font\")\n",
    "newsubmission = pd.concat([pd.Series(range(1,29222),name = \"ID\"),pdresults],axis = 1)\n",
    "newsubmission.to_csv(\"12_10_88.csv\",index=False)\n",
    "newsubmission"
   ]
  }
 ],
 "metadata": {
  "kernelspec": {
   "display_name": "Python 3",
   "language": "python",
   "name": "python3"
  },
  "language_info": {
   "codemirror_mode": {
    "name": "ipython",
    "version": 3
   },
   "file_extension": ".py",
   "mimetype": "text/x-python",
   "name": "python",
   "nbconvert_exporter": "python",
   "pygments_lexer": "ipython3",
   "version": "3.6.10"
  }
 },
 "nbformat": 4,
 "nbformat_minor": 4
}
